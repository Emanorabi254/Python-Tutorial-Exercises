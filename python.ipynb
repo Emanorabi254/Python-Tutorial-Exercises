{
 "cells": [
  {
   "cell_type": "code",
   "execution_count": 3,
   "metadata": {},
   "outputs": [
    {
     "name": "stdout",
     "output_type": "stream",
     "text": [
      "Hello, World\n",
      "Another Hello\n"
     ]
    }
   ],
   "source": [
    "print(\"Hello, World\")\n",
    "print('Another Hello')"
   ]
  },
  {
   "cell_type": "code",
   "execution_count": 2,
   "metadata": {},
   "outputs": [
    {
     "name": "stdout",
     "output_type": "stream",
     "text": [
      "0\n",
      "1\n",
      "2\n",
      "3\n"
     ]
    }
   ],
   "source": [
    "for i in range (4):\n",
    "    print(i)"
   ]
  },
  {
   "cell_type": "code",
   "execution_count": null,
   "metadata": {},
   "outputs": [
    {
     "name": "stdout",
     "output_type": "stream",
     "text": [
      "x=  7 it's type is  <class 'int'>\n",
      "y=  7.0 it's type is  <class 'float'>\n"
     ]
    }
   ],
   "source": [
    "x=7\n",
    "y=7.0\n",
    "print(\"x= \",x ,\"it's type is \",type(x) ) # We use doble quotes as there is 's in it's\n",
    "print(\"y= \",y ,\"it's type is \",type(y) )"
   ]
  },
  {
   "cell_type": "markdown",
   "metadata": {},
   "source": [
    "Another way more effecient for writing sentence with numbers by using Formats f \"."
   ]
  },
  {
   "cell_type": "code",
   "execution_count": 9,
   "metadata": {},
   "outputs": [
    {
     "name": "stdout",
     "output_type": "stream",
     "text": [
      "x = 7 and it's type is <class 'int'>\n"
     ]
    }
   ],
   "source": [
    "print(f\"x = {x} and it's type is {type(x)}\")"
   ]
  },
  {
   "cell_type": "markdown",
   "metadata": {},
   "source": [
    "Sign \"+\" is used for 2 operations:\n",
    "\n",
    "Add => if it applicates on numbers.\n",
    "\n",
    "Concatenation => if it applicaties on strings\n",
    "\n",
    "\"Note that\"\n",
    "\n",
    "Concatenation can't be applied on different data types"
   ]
  },
  {
   "cell_type": "code",
   "execution_count": null,
   "metadata": {},
   "outputs": [
    {
     "name": "stdout",
     "output_type": "stream",
     "text": [
      "3\n",
      "hello world\n"
     ]
    }
   ],
   "source": [
    "one=1\n",
    "two=2\n",
    "three=one +two\n",
    "print(three)\n",
    "\n",
    "hello=\"hello\"\n",
    "world=\"world\"\n",
    "helloworld=hello + \" \" + world  # here it will concatenate the two words together\n",
    "print(helloworld)\n"
   ]
  },
  {
   "cell_type": "markdown",
   "metadata": {},
   "source": [
    "WE can assign different values in the same line and do the printing too in the same line."
   ]
  },
  {
   "cell_type": "code",
   "execution_count": 13,
   "metadata": {},
   "outputs": [
    {
     "name": "stdout",
     "output_type": "stream",
     "text": [
      "5 45 20\n"
     ]
    }
   ],
   "source": [
    "a,b,c=5,45,20\n",
    "print(a,b,c)  # the output will be in the same line , if you need them in separete lines, do print for each variable."
   ]
  },
  {
   "cell_type": "markdown",
   "metadata": {},
   "source": [
    "if you assign values less than the variables mentiond like this:\n",
    "\n",
    "x,r,e=5,4\n",
    "\n",
    "it will give you error, but if otherwise means that you assigns values more than the mention variables it will consider them as a \"*Tuple*\"."
   ]
  },
  {
   "cell_type": "code",
   "execution_count": null,
   "metadata": {},
   "outputs": [
    {
     "name": "stdout",
     "output_type": "stream",
     "text": [
      "(5, 4, 7)\n"
     ]
    }
   ],
   "source": [
    "x=5,4,7\n",
    "print(x) # here it will consider x as a tuple"
   ]
  },
  {
   "cell_type": "markdown",
   "metadata": {},
   "source": [
    "Lists : here you can define a list without defining it's size , on despite the Array in other language. "
   ]
  },
  {
   "cell_type": "code",
   "execution_count": 20,
   "metadata": {},
   "outputs": [
    {
     "name": "stdout",
     "output_type": "stream",
     "text": [
      "3\n",
      "30\n",
      "45\n",
      "Print all values in the list by using loop...\n",
      "3\n",
      "5\n",
      "30\n",
      "45\n"
     ]
    }
   ],
   "source": [
    "mylist=[]\n",
    "mylist.append(3)\n",
    "mylist.append(5)\n",
    "mylist.append(30)\n",
    "mylist.append(45)\n",
    "print(mylist[0])\n",
    "print(mylist[2])\n",
    "print(mylist[3])\n",
    "\n",
    "print(\"Print all values in the list by using loop...\")\n",
    "for i in mylist:\n",
    "    print(i)"
   ]
  },
  {
   "cell_type": "markdown",
   "metadata": {},
   "source": [
    "Arithmatic Operations"
   ]
  },
  {
   "cell_type": "code",
   "execution_count": null,
   "metadata": {},
   "outputs": [
    {
     "name": "stdout",
     "output_type": "stream",
     "text": [
      "7.666666666666667\n"
     ]
    }
   ],
   "source": [
    "number = 1 + 5 * 4 / 3.0\n",
    "print(number)"
   ]
  },
  {
   "cell_type": "code",
   "execution_count": 24,
   "metadata": {},
   "outputs": [
    {
     "name": "stdout",
     "output_type": "stream",
     "text": [
      "2\n"
     ]
    }
   ],
   "source": [
    "reminder=11%3\n",
    "print(reminder)"
   ]
  },
  {
   "cell_type": "code",
   "execution_count": 25,
   "metadata": {},
   "outputs": [
    {
     "name": "stdout",
     "output_type": "stream",
     "text": [
      "3\n"
     ]
    }
   ],
   "source": [
    "quotes=11//3  # => 11/3=3*3+2 --> value= divisor * quotes + reminder\n",
    "print(quotes)"
   ]
  },
  {
   "cell_type": "code",
   "execution_count": 26,
   "metadata": {},
   "outputs": [
    {
     "name": "stdout",
     "output_type": "stream",
     "text": [
      "216\n"
     ]
    }
   ],
   "source": [
    "power=6**3\n",
    "print(power)"
   ]
  },
  {
   "cell_type": "markdown",
   "metadata": {},
   "source": [
    "Using operators with strings.\n",
    "\n",
    "As we mention above the concatenation.\n",
    "\n",
    "Here another operators can be applied: *\n",
    "\n",
    "sign \"*\" when used with strings , it means repeatting"
   ]
  },
  {
   "cell_type": "code",
   "execution_count": 27,
   "metadata": {},
   "outputs": [
    {
     "name": "stdout",
     "output_type": "stream",
     "text": [
      "helloamona helloamona helloamona \n"
     ]
    }
   ],
   "source": [
    "helloamona=\"helloamona \" * 3\n",
    "print(helloamona)"
   ]
  },
  {
   "cell_type": "markdown",
   "metadata": {},
   "source": [
    "*Using Operators with Lists*\n",
    "\n",
    "sign \"+\" when used with lists, it will joined the lists together in one list.\n",
    "\n",
    "sign \"*\" : it will be as same as it's using with the string \" will repeates them as we say by using for example list5 * 3 --> it will repeates the values in these list 3 times.\""
   ]
  },
  {
   "cell_type": "code",
   "execution_count": 31,
   "metadata": {},
   "outputs": [
    {
     "name": "stdout",
     "output_type": "stream",
     "text": [
      "[1, 2, 5, 45, 20, 2]\n"
     ]
    }
   ],
   "source": [
    "list1=[1,2,5]\n",
    "list2=[45,20,2]\n",
    "list3 =list1+list2\n",
    "print(list3)"
   ]
  },
  {
   "cell_type": "code",
   "execution_count": 33,
   "metadata": {},
   "outputs": [
    {
     "name": "stdout",
     "output_type": "stream",
     "text": [
      "[1, 2, 5, 1, 2, 5, 1, 2, 5]\n"
     ]
    }
   ],
   "source": [
    "print(list1*3)"
   ]
  },
  {
   "cell_type": "markdown",
   "metadata": {},
   "source": [
    "*Conditions*"
   ]
  },
  {
   "cell_type": "code",
   "execution_count": 34,
   "metadata": {},
   "outputs": [
    {
     "name": "stdout",
     "output_type": "stream",
     "text": [
      "True\n",
      "False\n",
      "True\n"
     ]
    }
   ],
   "source": [
    "x=2\n",
    "print(x == 2) # True\n",
    "print(x == 5) # False\n",
    "print(x > -9) # True"
   ]
  },
  {
   "cell_type": "markdown",
   "metadata": {},
   "source": [
    "Logical Operations Can be done by :\n",
    "\n",
    "and  , or --> i mean it's written like this when using \"in English\"\n",
    "\n",
    "The \"in\" Operator can be used to check if a specified object exists within an iterable objet container"
   ]
  },
  {
   "cell_type": "code",
   "execution_count": null,
   "metadata": {},
   "outputs": [
    {
     "name": "stdout",
     "output_type": "stream",
     "text": [
      "True\n"
     ]
    }
   ],
   "source": [
    "name=\"Eman\"\n",
    "print(name in [\"Emaa\",\"Eman\"])"
   ]
  },
  {
   "cell_type": "markdown",
   "metadata": {},
   "source": [
    "*LOOPS*"
   ]
  },
  {
   "cell_type": "code",
   "execution_count": 40,
   "metadata": {},
   "outputs": [
    {
     "name": "stdout",
     "output_type": "stream",
     "text": [
      "2\n",
      "3\n",
      "5\n",
      "7\n"
     ]
    }
   ],
   "source": [
    "primes=[2,3,5,7]\n",
    "for prime in primes:\n",
    "    print(prime)"
   ]
  },
  {
   "cell_type": "markdown",
   "metadata": {},
   "source": [
    "For loop using range function :\n",
    "\n",
    "range(start,end, step): if you don't define the start it will be by default :0 and if you don't define the step it will be :1  "
   ]
  },
  {
   "cell_type": "code",
   "execution_count": null,
   "metadata": {},
   "outputs": [
    {
     "name": "stdout",
     "output_type": "stream",
     "text": [
      "4\n"
     ]
    }
   ],
   "source": [
    "for i in range(5):\n",
    "    print(i) # It will print from 0 to 4"
   ]
  },
  {
   "cell_type": "markdown",
   "metadata": {},
   "source": [
    "print values of 3,4,5"
   ]
  },
  {
   "cell_type": "code",
   "execution_count": 48,
   "metadata": {},
   "outputs": [
    {
     "name": "stdout",
     "output_type": "stream",
     "text": [
      "3\n",
      "4\n",
      "5\n"
     ]
    }
   ],
   "source": [
    "for h in range(3,6):\n",
    "    print(h)"
   ]
  },
  {
   "cell_type": "markdown",
   "metadata": {},
   "source": [
    "print values of 3,5,7"
   ]
  },
  {
   "cell_type": "code",
   "execution_count": 49,
   "metadata": {},
   "outputs": [
    {
     "name": "stdout",
     "output_type": "stream",
     "text": [
      "3\n",
      "5\n",
      "7\n"
     ]
    }
   ],
   "source": [
    "for j in range (3,8,2):\n",
    "    print(j)"
   ]
  },
  {
   "cell_type": "markdown",
   "metadata": {},
   "source": [
    "*While Loop*\n",
    "\n",
    "It repeates the statments or output as long as the condition is true"
   ]
  },
  {
   "cell_type": "markdown",
   "metadata": {},
   "source": [
    "\n",
    "\n",
    "print out from 0 to 5 using while loop"
   ]
  },
  {
   "cell_type": "code",
   "execution_count": null,
   "metadata": {},
   "outputs": [
    {
     "name": "stdout",
     "output_type": "stream",
     "text": [
      "0\n",
      "1\n",
      "2\n",
      "3\n",
      "4\n"
     ]
    }
   ],
   "source": [
    "count=0\n",
    "while(count < 5):\n",
    "    print(count)\n",
    "    count += 1  # in python we can't apply increment like this ++ directly"
   ]
  },
  {
   "cell_type": "markdown",
   "metadata": {},
   "source": [
    "\"Break\" and \"Continue\" Statements\n",
    "\n",
    "break is used to exit from the loop, but continue is used to skip this output and go again to complete the loop"
   ]
  },
  {
   "cell_type": "markdown",
   "metadata": {},
   "source": [
    "\n",
    "\n",
    "\n",
    "print out 0,1,2,3,4 using break statement"
   ]
  },
  {
   "cell_type": "code",
   "execution_count": 58,
   "metadata": {},
   "outputs": [
    {
     "name": "stdout",
     "output_type": "stream",
     "text": [
      "0\n",
      "1\n",
      "2\n",
      "3\n",
      "4\n"
     ]
    }
   ],
   "source": [
    "counts=0\n",
    "while True:\n",
    "    print(counts)\n",
    "    counts += 1\n",
    "    if(counts > 4):\n",
    "        break"
   ]
  },
  {
   "cell_type": "markdown",
   "metadata": {},
   "source": [
    "print only odd primes 1,3,5,7,9 using contiune statement"
   ]
  },
  {
   "cell_type": "code",
   "execution_count": 69,
   "metadata": {},
   "outputs": [
    {
     "name": "stdout",
     "output_type": "stream",
     "text": [
      "1\n",
      "3\n",
      "5\n",
      "7\n",
      "9\n"
     ]
    }
   ],
   "source": [
    "counter=0\n",
    "while True:\n",
    "    if counter % 2 == 0:\n",
    "        counter += 1\n",
    "        continue\n",
    "    print(counter)\n",
    "    counter += 1\n",
    "    if counter > 9:\n",
    "        break    \n"
   ]
  },
  {
   "cell_type": "markdown",
   "metadata": {},
   "source": [
    "Another way for this will be with for loop"
   ]
  },
  {
   "cell_type": "code",
   "execution_count": 70,
   "metadata": {},
   "outputs": [
    {
     "name": "stdout",
     "output_type": "stream",
     "text": [
      "1\n",
      "3\n",
      "5\n",
      "7\n",
      "9\n"
     ]
    }
   ],
   "source": [
    "i=0\n",
    "for i in range(10):\n",
    "    if( i % 2 == 0):\n",
    "        continue\n",
    "    print(i)"
   ]
  },
  {
   "cell_type": "markdown",
   "metadata": {},
   "source": [
    "*Functions*\n",
    "\n",
    "Functions in python are defined using the block keyword \"def\""
   ]
  },
  {
   "cell_type": "code",
   "execution_count": null,
   "metadata": {},
   "outputs": [
    {
     "name": "stdout",
     "output_type": "stream",
     "text": [
      "Hello Everyone from Eman Orabi :)\n"
     ]
    }
   ],
   "source": [
    "def myfunction():\n",
    "    print(\"Hello Everyone from Eman Orabi :)\")\n",
    "# Calling the function\n",
    "myfunction()    "
   ]
  },
  {
   "cell_type": "markdown",
   "metadata": {},
   "source": [
    "Functions may also receive arguments (variable passed from the caller to the function)"
   ]
  },
  {
   "cell_type": "code",
   "execution_count": 79,
   "metadata": {},
   "outputs": [],
   "source": [
    "def myfunction_with_args(username,greeting):\n",
    "    print(f\"Hello,{username} from my Function !! I wish you {greeting} ^_^\")"
   ]
  },
  {
   "cell_type": "code",
   "execution_count": 80,
   "metadata": {},
   "outputs": [
    {
     "name": "stdout",
     "output_type": "stream",
     "text": [
      "Hello,Eman from my Function !! I wish you All the best ^_^\n"
     ]
    }
   ],
   "source": [
    "myfunction_with_args(\"Eman\",\"All the best\")"
   ]
  },
  {
   "cell_type": "markdown",
   "metadata": {},
   "source": [
    "Functions may return a value to the caller, using the keyword \"return\""
   ]
  },
  {
   "cell_type": "code",
   "execution_count": 81,
   "metadata": {},
   "outputs": [],
   "source": [
    "def sum_two_numbers(num1,num2):\n",
    "    return num1+num2"
   ]
  },
  {
   "cell_type": "code",
   "execution_count": 83,
   "metadata": {},
   "outputs": [
    {
     "name": "stdout",
     "output_type": "stream",
     "text": [
      "The result of the summation Function is  45\n"
     ]
    }
   ],
   "source": [
    "result=sum_two_numbers(5,40)\n",
    "print(\"The result of the summation Function is \",result)"
   ]
  }
 ],
 "metadata": {
  "kernelspec": {
   "display_name": "Python 3",
   "language": "python",
   "name": "python3"
  },
  "language_info": {
   "codemirror_mode": {
    "name": "ipython",
    "version": 3
   },
   "file_extension": ".py",
   "mimetype": "text/x-python",
   "name": "python",
   "nbconvert_exporter": "python",
   "pygments_lexer": "ipython3",
   "version": "3.13.2"
  }
 },
 "nbformat": 4,
 "nbformat_minor": 2
}
